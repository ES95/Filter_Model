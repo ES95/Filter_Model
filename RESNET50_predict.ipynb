{
 "cells": [
  {
   "cell_type": "code",
   "execution_count": null,
   "metadata": {},
   "outputs": [],
   "source": [
    "!nvidia-smi"
   ]
  },
  {
   "cell_type": "code",
   "execution_count": 1,
   "metadata": {},
   "outputs": [],
   "source": [
    "\n",
    "\n",
    "import os\n",
    "#force cpu processing\n",
    "# os.environ[\"CUDA_DEVICE_ORDER\"] = \"PCI_BUS_ID\"\n",
    "# os.environ[\"CUDA_VISIBLE_DEVICES\"] = \"\"\n",
    "import sys\n",
    "import glob\n",
    "import argparse\n",
    "import shutil\n",
    "\n",
    "import numpy as np\n",
    "from tensorflow.python.keras import backend as K\n",
    "from tensorflow.python.keras.models import load_model\n",
    "from tensorflow.python.keras.applications.resnet50 import preprocess_input\n",
    "from tensorflow.python.keras.preprocessing import image\n",
    "from matplotlib import pyplot as plt\n",
    "\n",
    "\n",
    "def parse_args():\n",
    "    \"\"\"Parse input arguments.\n",
    "    \"\"\"\n",
    "    parser = argparse.ArgumentParser()\n",
    "    parser.add_argument('path')\n",
    "    args = parser.parse_args()\n",
    "    return args\n",
    "\n",
    "\n",
    "def get_files(path):\n",
    "    if os.path.isdir(path):\n",
    "        files = glob.glob(os.path.join(path, '*'))\n",
    "    elif path.find('*') > 0:\n",
    "        files = glob.glob(path)\n",
    "    else:\n",
    "        files = [path]\n",
    "\n",
    "    files = [f for f in files if f.endswith('JPG') or f.endswith('jpg')]\n",
    "\n",
    "    if not len(files):\n",
    "        sys.exit('No images found by the given path!')\n",
    "\n",
    "    return files"
   ]
  },
  {
   "cell_type": "code",
   "execution_count": 2,
   "metadata": {},
   "outputs": [],
   "source": [
    "# load the trained model\n",
    "net = load_model('C:\\\\Users\\\\eklavya\\\\work_notebooks\\\\best_weights_resnet_50_4.hdf5')"
   ]
  },
  {
   "cell_type": "code",
   "execution_count": 3,
   "metadata": {},
   "outputs": [
    {
     "name": "stdout",
     "output_type": "stream",
     "text": [
      "0\n",
      "1\n",
      "2\n",
      "3\n",
      "4\n",
      "5\n",
      "6\n",
      "7\n",
      "8\n",
      "9\n"
     ]
    }
   ],
   "source": [
    "inp_path = 'C:\\\\Users\\\\eklavya\\\\work_notebooks\\\\color\\\\'\n",
    "out_dir = 'C:\\\\Users\\\\eklavya\\\\work_notebooks\\\\out_color4\\\\'\n",
    "os.makedirs(out_dir, exist_ok=True)\n",
    "cls_list = ['adult', 'normal']\n",
    "\n",
    "for i in range(10):\n",
    "    print(i)\n",
    "    os.makedirs(out_dir+'output'+str(i), exist_ok=True)"
   ]
  },
  {
   "cell_type": "code",
   "execution_count": 4,
   "metadata": {},
   "outputs": [
    {
     "name": "stderr",
     "output_type": "stream",
     "text": [
      "C:\\ProgramData\\Anaconda3\\envs\\tf_gpu\\lib\\site-packages\\PIL\\Image.py:2685: UserWarning: image file could not be identified because WEBP support not installed\n",
      "  warnings.warn(message)\n"
     ]
    },
    {
     "name": "stdout",
     "output_type": "stream",
     "text": [
      "cannot identify image file 'C:\\\\Users\\\\eklavya\\\\work_notebooks\\\\color\\\\0-53x10m-Non-woven-solid-color-wallpaper-beige-black-gray-white-modern-simple-bedroom-living-room.jpg_640x640.jpg'\n",
      "cannot identify image file 'C:\\\\Users\\\\eklavya\\\\work_notebooks\\\\color\\\\0-53x10m-Solid-color-wallpaper-orange-dark-blue-wallpaper-nonwovens-gray-black-dark-green-pink-living.jpg'\n",
      "cannot identify image file 'C:\\\\Users\\\\eklavya\\\\work_notebooks\\\\color\\\\abstract-solid-color-wallpaper-260nw-186787046.jpg'\n",
      "cannot identify image file 'C:\\\\Users\\\\eklavya\\\\work_notebooks\\\\color\\\\abstract-solid-color-wallpaper-260nw-186942059.jpg'\n",
      "cannot identify image file 'C:\\\\Users\\\\eklavya\\\\work_notebooks\\\\color\\\\beibehang-Pearls-Old-Furniture-Refurbished-Sticker-Thicker-Cloth-Wardrobe-pvc-Solid-Color-Wallpaper-Self-adhesive.jpg_640x640.jpg'\n",
      "cannot identify image file 'C:\\\\Users\\\\eklavya\\\\work_notebooks\\\\color\\\\Blue-Green-Solid-Color-Wallpaper-Sticker-Modern-Simple-Peel-and-Stick-Wallpapers-Roll-Living-Room-Bedroom.jpg_640x640.jpg'\n",
      "cannot identify image file 'C:\\\\Users\\\\eklavya\\\\work_notebooks\\\\color\\\\Modern-Solid-Color-Dark-Blue-Wallpaper-Roll-Plain-Denim-Wall-Paper-For-Walls-Waterproof-PVC-Wallpapers.jpg'\n",
      "cannot identify image file 'C:\\\\Users\\\\eklavya\\\\work_notebooks\\\\color\\\\Modern-Solid-Color-Wallpaper-For-Walls-3-D-Non-woven-Light-Gray-Blue-Wall-Paper-Rolls.jpg_640x640.jpg'\n",
      "cannot identify image file 'C:\\\\Users\\\\eklavya\\\\work_notebooks\\\\color\\\\Modern-Solid-Color-Wallpapers-Waterproof-Linen-Textured-Wall-Paper-Roll-Grey-Beige-Yellow-Khaki-Wallpaper-Vinyl.jpg_640x640.jpg'\n",
      "cannot identify image file 'C:\\\\Users\\\\eklavya\\\\work_notebooks\\\\color\\\\one-colour-plain-white-solid-color-single-720x1280-c-f3e8fd-f-24.svg'\n",
      "cannot identify image file 'C:\\\\Users\\\\eklavya\\\\work_notebooks\\\\color\\\\one-colour-solid-color-plain-single-pink-1920x1080-c-a87b89-f-24.svg'\n",
      "cannot identify image file 'C:\\\\Users\\\\eklavya\\\\work_notebooks\\\\color\\\\pink-single-one-colour-plain-solid-color-2160x3840-c-d39aba-f-24.svg'\n",
      "cannot identify image file 'C:\\\\Users\\\\eklavya\\\\work_notebooks\\\\color\\\\plain-one-colour-solid-color-cyan-single-1920x1080-c-c2effa-f-24.svg'\n",
      "cannot identify image file 'C:\\\\Users\\\\eklavya\\\\work_notebooks\\\\color\\\\red-solid-color-one-colour-single-plain-1920x1080-c-310d12-f-24.svg'\n",
      "cannot identify image file 'C:\\\\Users\\\\eklavya\\\\work_notebooks\\\\color\\\\single-one-colour-solid-color-plain-azure-1920x1080-c-081c24-f-24.svg'\n",
      "cannot identify image file 'C:\\\\Users\\\\eklavya\\\\work_notebooks\\\\color\\\\single-plain-black-solid-color-one-colour-1920x1080-c-020617-f-24.svg'\n",
      "cannot identify image file 'C:\\\\Users\\\\eklavya\\\\work_notebooks\\\\color\\\\solid-color-blue-one-colour-plain-single-1920x1080-c-0000d4-f-24.svg'\n",
      "cannot identify image file 'C:\\\\Users\\\\eklavya\\\\work_notebooks\\\\color\\\\solid-color-one-colour-single-plain-black-1440x2880-c-000d02-f-24.svg'\n",
      "cannot identify image file 'C:\\\\Users\\\\eklavya\\\\work_notebooks\\\\color\\\\solid-color-plain-one-colour-lime-single-1920x1080-c-c4fab0-f-24.svg'\n",
      "cannot identify image file 'C:\\\\Users\\\\eklavya\\\\work_notebooks\\\\color\\\\Solid-Color-Striped-Wallpaper-3D-Non-woven-Flocking-Wallpaper-Roll-Bedroom-Living-Room-Classic-Wall-Paper.jpg_640x640.jpg'\n",
      "cannot identify image file 'C:\\\\Users\\\\eklavya\\\\work_notebooks\\\\color\\\\solid-colour-wallpaper-by-tigris-solid-colour-wallpaper-by-tigris-jp56yb.jpg'\n",
      "cannot identify image file 'C:\\\\Users\\\\eklavya\\\\work_notebooks\\\\color\\\\solid-colour-wallpaper-by-tigris-solid-colour-wallpaper-by-tigris-qguwr9.jpg'\n",
      "cannot identify image file 'C:\\\\Users\\\\eklavya\\\\work_notebooks\\\\color\\\\Thickened-linen-pattern-solid-color-wallpaper-self-adhesive-waterproof-wallpaper-plain-furniture-renovation-stickers-122.jpg_640x640.jpg'\n",
      "cannot identify image file 'C:\\\\Users\\\\eklavya\\\\work_notebooks\\\\color\\\\violet-plain-solid-color-one-colour-single-2160x3840-c-370e5b-f-24.svg'\n",
      "Complete:  277\n"
     ]
    }
   ],
   "source": [
    "j = 0\n",
    "# loop through all files and make predictions\n",
    "for root, dirs, files in os.walk(inp_path):\n",
    "    for file in files:\n",
    "        f = os.path.join(root, file)\n",
    "        # vidid = file.split(\",\")[-1][:-4]\n",
    "        try:\n",
    "            img = image.load_img(f, target_size=(224,224))\n",
    "            if img is None:\n",
    "                continue\n",
    "            x = image.img_to_array(img)\n",
    "            x = preprocess_input(x)\n",
    "            x = np.expand_dims(x, axis=0)\n",
    "            # pred_ = net.predict(x)\n",
    "            pred = net.predict(x)[0]\n",
    "#             print(\"pred\",pred)\n",
    "            adult_score = round(float(pred[1]), 3)\n",
    "            # print(\"x: {} ; pred_: {} ; adult_score: {}\".format(x, pred_, adult_score))\n",
    "            # exit(0)\n",
    "            # adult_score = 1 - adult_score\n",
    "            # top_inds = pred.argsort()[::-1][:5]\n",
    "\n",
    "            # prev_i = 0.\n",
    "            # print(\"qwewqe: \", str(int(adult_score*10)))\n",
    "#             print(\"adult_score\",adult_score)\n",
    "            shutil.copy(root+'/'+file, \"{}/ad_{},pic{}.jpg\".format(os.path.join(out_dir, 'output'+str(int(adult_score*10))), adult_score, j))\n",
    "        except Exception as e:\n",
    "            print(e)\n",
    "            \n",
    "            pass\n",
    "\n",
    "        # for i in np.linspace(0, 1, 11)[1:]:\n",
    "        #     if adult_score >= prev_i and adult_score < i:\n",
    "        #         shutil.copy(f, \"{}/{}/{}_ad,{}\".format(out_dir, int(prev_i*10), adult_score, file))\n",
    "        #     prev_i = i\n",
    "\n",
    "        j += 1\n",
    "        # print(\"Complete: \", j)\n",
    "        if j%100 == 0:\n",
    "            print(\"Complete: {}\\r\".format(j), end=\"\")\n",
    "print(\"Complete: \", j)\n",
    "\n",
    "        # for i in top_inds:\n",
    "        #     print('    {:.3f}  {}'.format(pred[i], cls_list[i]))"
   ]
  },
  {
   "cell_type": "code",
   "execution_count": null,
   "metadata": {},
   "outputs": [],
   "source": []
  }
 ],
 "metadata": {
  "kernelspec": {
   "display_name": "tf_gpu",
   "language": "python",
   "name": "tf_gpu"
  },
  "language_info": {
   "codemirror_mode": {
    "name": "ipython",
    "version": 3
   },
   "file_extension": ".py",
   "mimetype": "text/x-python",
   "name": "python",
   "nbconvert_exporter": "python",
   "pygments_lexer": "ipython3",
   "version": "3.6.8"
  }
 },
 "nbformat": 4,
 "nbformat_minor": 2
}
