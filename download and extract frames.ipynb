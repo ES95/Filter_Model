{
 "cells": [
  {
   "cell_type": "markdown",
   "metadata": {},
   "source": [
    "iframe_extract.py - download video and ffmpeg i-frame extraction\n",
    "Usage: \n",
    "(ex) python iframe_extract.py -u https://www.youtube.com/watch?v=dP15zlyra3c\n",
    "This code does two things:\n",
    "1. Download using youtube-dl\n",
    "2. Extract i-frames via ffmpeg"
   ]
  },
  {
   "cell_type": "code",
   "execution_count": 7,
   "metadata": {},
   "outputs": [
    {
     "name": "stdout",
     "output_type": "stream",
     "text": [
      "get meta info from the video\n",
      "[youtube] fP_SaWMPAUY: Downloading webpage\n",
      "[youtube] fP_SaWMPAUY: Downloading video info webpage\n",
      "[download] Destination: fP_SaWMPAUY.mp4\n",
      "[download] 100% of 22.21MiB in 00:08                  \n",
      "get meta info from the video\n",
      "[youtube] R1VAq8WGkV4: Downloading webpage\n",
      "[youtube] R1VAq8WGkV4: Downloading video info webpage\n",
      "[download] Destination: R1VAq8WGkV4.mp4\n",
      "[download] 100% of 15.53MiB in 00:21                   \n"
     ]
    }
   ],
   "source": [
    "from __future__ import unicode_literals\n",
    "import youtube_dl\n",
    "\n",
    "import sys\n",
    "import os\n",
    "import subprocess\n",
    "import argparse\n",
    "import glob\n",
    "from subprocess import call\n",
    "import cv2\n",
    "import numpy as np\n",
    "\n",
    "# extract i-frame using ffmpeg\n",
    "def iframe_extract(vidid):\n",
    "# imgPrefix : image file \n",
    "    imgPrefix = vidid\n",
    "    inFile = vidid+\".mp4\"\n",
    "    # start extracting i-frames\n",
    "    imgFilenames = imgPrefix + '_%03d.png'\n",
    "    cmd = 'ffmpeg -i '+ inFile+ ' -vf '+ \"\\\"select=gt(scene\\,0.18)\\\"\"+ ' -vsync '+ ' vfr '+ imgFilenames\n",
    "    # create iframes\n",
    "    subprocess.call(cmd, shell=True)\n",
    "    # Move the extracted iframes to a subfolder\n",
    "    # imgPrefix is used as a subfolder name that stores iframe images\n",
    "    cmd = 'mkdir  ' + vidid\n",
    "    os.system(cmd)\n",
    "    mvcmd = 'move ' + vidid + '*.png ' + vidid\n",
    "    os.system(mvcmd)\n",
    "\n",
    "\n",
    "def remove_duplicates_mse(imgs_dir):\n",
    "     # the 'Mean Squared Error' between the two images is the\n",
    "    # sum of the squared difference between the two images;\n",
    "    # NOTE: the two images must have the same dimension\n",
    "    print(\"Removing similar images\")\n",
    "    imgs_to_remove = []\n",
    "    for i, img_name in enumerate(os.listdir(imgs_dir)):\n",
    "        print(\"index: {}\\r\".format(i), end=\"\")\n",
    "        for img_name_2 in os.listdir(imgs_dir):\n",
    "            img1 = cv2.imread(os.path.join(imgs_dir, img_name))\n",
    "            img2 = cv2.imread(os.path.join(imgs_dir, img_name_2))\n",
    "            diff = mse(img1, img2)\n",
    "            if diff < 0.9 and img_name != img_name_2:\n",
    "                imgs_to_remove.append(img_name_2)\n",
    "    print(\"{} images found to be similar. Removing them now.\".format(len(set(imgs_to_remove))))\n",
    "    for img_name in set(imgs_to_remove):\n",
    "        os.remove(os.path.join(imgs_dir, img_name))\n",
    "\n",
    "def get_info_and_download(vidid):\n",
    "    # Get video meta info and then download using youtube-dl\n",
    "    ydl_opts = {'format': '135/134/133/160',\n",
    "                'outtmpl': \"\"+'%(id)s.'+'mp4'}\n",
    "\n",
    "    print(\"get meta info from the video\")\n",
    "    try:\n",
    "        with youtube_dl.YoutubeDL(ydl_opts) as ydl:\n",
    "            ydl.download([\"https://www.youtube.com/watch?v=\"+vidid])\n",
    "    except Exception as e:\n",
    "        print(\"Error: \", e)      \n",
    "#     call iframe-extraction : ffmpeg\n",
    "    iframe_extract(vidid)\n",
    "    remove_duplicates_mse(vidid)\n",
    "    return 0\n",
    "\n",
    "if __name__ == '__main__':\n",
    "    vidid=[\"fP_SaWMPAUY\",\"R1VAq8WGkV4\",\"3zlCMjhG4Dg\",\"eXKs4CpsAR4\",\"UeycPGzRNBc\",\"XDjHMJz674w\",\"YdN7BV3HXE4\",\"2B_Wc3ktFJs\"]\n",
    "    j=0\n",
    "    for i in vidid:\n",
    "        j=j+1\n",
    "        meta = get_info_and_download(i)"
   ]
  },
  {
   "cell_type": "code",
   "execution_count": null,
   "metadata": {},
   "outputs": [],
   "source": [
    "'ffmpeg -i'+ 4nCshJBODT4.mp4 '-vf select=gt(scene\\,0.18)  -vsync   vfr  '+4nCshJBODT4_%03d.png"
   ]
  }
 ],
 "metadata": {
  "kernelspec": {
   "display_name": "Python 3",
   "language": "python",
   "name": "python3"
  },
  "language_info": {
   "codemirror_mode": {
    "name": "ipython",
    "version": 3
   },
   "file_extension": ".py",
   "mimetype": "text/x-python",
   "name": "python",
   "nbconvert_exporter": "python",
   "pygments_lexer": "ipython3",
   "version": "3.7.1"
  }
 },
 "nbformat": 4,
 "nbformat_minor": 2
}
